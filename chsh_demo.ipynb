# chsh_demo.ipynb
import matplotlib.pyplot as plt
from sphinx_os import SphinxOS

# Initialize SphinxOS
os = SphinxOS()

# Run Bell state with CHSH test
print("Simulating Bell state with CHSH test...")
result = os.emulate_on_hardware()
counts = result['counts']
fidelity = result['fidelity']
S = result['S']
print(f"Bell State Counts: {counts}")
print(f"Fidelity: {fidelity:.3f}")
print(f"CHSH Parameter: |S| = {abs(S):.3f}, {'Violates' if abs(S) > 2 else 'Does not violate'} CHSH inequality")

# Visualize results
fig, (ax1, ax2) = plt.subplots(1, 2, figsize=(12, 5))
ax1.bar(counts.keys(), counts.values(), color="green")
ax1.set_xlabel("Quantum State")
ax1.set_ylabel("Counts")
ax1.set_title("Bell State Measurement")
ax2.plot(os.entanglement_history, label="Entanglement Entropy", color="blue")
ax2.set_xlabel("Time Step")
ax2.set_ylabel("Entropy")
ax2.set_title("Spacetime Entanglement Entropy")
ax2.legend()
plt.tight_layout()
plt.savefig("chsh_results.png")
plt.show()
